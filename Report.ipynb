{
 "cells": [
  {
   "cell_type": "code",
   "execution_count": 80,
   "id": "cf0d84d6-4b49-45ca-bcab-c23d2ae26deb",
   "metadata": {},
   "outputs": [],
   "source": [
    "from collections import defaultdict\n",
    "from itertools import chain, combinations\n",
    "from tqdm import tqdm"
   ]
  },
  {
   "cell_type": "code",
   "execution_count": 81,
   "id": "332ef2dc-2653-446d-b7ae-3f476ebd8174",
   "metadata": {},
   "outputs": [],
   "source": [
    "def getUnion(itemSet, length):\n",
    "    return set([i.union(j) for i in itemSet for j in itemSet if len(i.union(j)) == length])\n",
    "\n",
    "def getAprioriAlg(itemSetList, itemSetSet, minSup):\n",
    "    C1List = getItemSetFromList(itemSetList) ## frequest 1 itemlist\n",
    "    # print(C1List)\n",
    "    globalFreqItemSet = dict()# The ` ` is used to create an empty set in Python. In the code, it is\n",
    "    # used to initialize an empty set called `tempItemSet`.\n",
    "     \n",
    "    globalItemSetWithSup = defaultdict(int) ## total counts of each item \"count of existance\"\n",
    "    L1ItemSet = getMinSup(C1List,itemSetSet,minSup,globalItemSetWithSup) ## return first level of freq item set\n",
    "    # print(globalItemSetWithSup)\n",
    "    currentLSet = L1ItemSet\n",
    "    k = 2\n",
    "    minSup = 0.01\n",
    "    while currentLSet:\n",
    "        print(\"k\",k)\n",
    "        globalFreqItemSet[k-1] = currentLSet ## for k = 1 \"size of set is 1\"\n",
    "        candidateSet = getUnion(currentLSet, k) ## create  itemsets for size k  from the current list\n",
    "        # candidateSet = pruning(candidateSet, currentLSet, k-1)\n",
    "        currentLSet = getMinSup(candidateSet,itemSetSet,minSup,globalItemSetWithSup) ## return only sets above min support\n",
    "        k = k +1\n",
    "    print(\"Extracting association rules\")\n",
    "    rules = associationRule(globalFreqItemSet, globalItemSetWithSup, .7)  ## .3 is the min acceptable confidence.\n",
    "    rules.sort(key=lambda x: x[2], reverse=True) ## sort by confidence\n",
    "    return globalFreqItemSet, rules\n",
    "\n",
    "def pruning(candidateSet, prevFreqSet, length):\n",
    "    print(\"=--------------------\" )\n",
    "    print(\"start pruning : \", len(candidateSet) )\n",
    "    tempCandidateSet = candidateSet.copy()\n",
    "    for item in candidateSet:\n",
    "        subsets = combinations(item, length)\n",
    "        for subset in subsets:\n",
    "            # if the subset is not in previous K-frequent get, then remove the set\n",
    "            if(frozenset(subset) not in prevFreqSet):\n",
    "                tempCandidateSet.remove(item)\n",
    "                break\n",
    "\n",
    "    print(\"after pruning : \",len(candidateSet) )\n",
    "    return tempCandidateSet   \n",
    "\n",
    "def powerset(s):\n",
    "    return chain.from_iterable(combinations(s, r) for r in range(1, len(s))) ## generate all possible combinations ex[1]\n",
    "\n",
    "def associationRule(freqItemSet, itemSetWithSup, minConf):\n",
    "    rules = []\n",
    "    for k, itemSet in freqItemSet.items():\n",
    "        for item in itemSet:\n",
    "            # print(\"---------\")\n",
    "            # print(item)\n",
    "            subsets = powerset(item)\n",
    "            for s in subsets:\n",
    "                confidence = float(\n",
    "                    itemSetWithSup[item] / itemSetWithSup[frozenset(s)])\n",
    "                if(confidence > minConf):\n",
    "                    rules.append([set(s), set(item.difference(s)), confidence])\n",
    "    return rules\n",
    "\n",
    "def getItemSetFromList(itemSetList):\n",
    "    tempItemSet = set()\n",
    "    for itemSet in itemSetList:\n",
    "        for item in itemSet:\n",
    "            tempItemSet.add(frozenset([item]))\n",
    "\n",
    "    return tempItemSet\n",
    "\n",
    "def getMinSup(itemSet, itemSetSet, minSup, globalItemSetWithSup):\n",
    "    freqItemSet = set()\n",
    "    localItemSetWithSup = defaultdict(int)\n",
    "    print(\"count items occurence\")\n",
    "    num_candidates = len(itemSet)\n",
    "    ## count the occurance of a set in all itemsets // we put it in global store to be able to use it  for confidence calc at the end.\n",
    "    for item in tqdm(itemSet):   \n",
    "        for itemSetNested in itemSetSet:\n",
    "            if item.issubset(itemSetNested):\n",
    "            # if item - itemSetNested:\n",
    "                globalItemSetWithSup[item] += 1\n",
    "                localItemSetWithSup[item] += 1\n",
    "\n",
    "    print(\"calculating support\")\n",
    "    ## calc the support for each item and add it to fequest item list.\n",
    "    for item, supCount in localItemSetWithSup.items():\n",
    "        support = float(supCount / len(itemSetList))\n",
    "        if(support >= minSup):\n",
    "            freqItemSet.add(item)\n",
    "\n",
    "    return freqItemSet\n",
    "\n"
   ]
  },
  {
   "cell_type": "code",
   "execution_count": 82,
   "id": "c2889b66-ca34-45f4-9b32-b16f367a1d66",
   "metadata": {},
   "outputs": [
    {
     "ename": "TypeError",
     "evalue": "getAprioriAlg() missing 1 required positional argument: 'minSup'",
     "output_type": "error",
     "traceback": [
      "\u001b[0;31m---------------------------------------------------------------------------\u001b[0m",
      "\u001b[0;31mTypeError\u001b[0m                                 Traceback (most recent call last)",
      "Cell \u001b[0;32mIn[82], line 6\u001b[0m\n\u001b[1;32m      1\u001b[0m dataset \u001b[38;5;241m=\u001b[39m [[\u001b[38;5;124m'\u001b[39m\u001b[38;5;124mMilk\u001b[39m\u001b[38;5;124m'\u001b[39m,\u001b[38;5;124m'\u001b[39m\u001b[38;5;124mOnion\u001b[39m\u001b[38;5;124m'\u001b[39m, \u001b[38;5;124m'\u001b[39m\u001b[38;5;124mBread\u001b[39m\u001b[38;5;124m'\u001b[39m, \u001b[38;5;124m'\u001b[39m\u001b[38;5;124mKidney Beans\u001b[39m\u001b[38;5;124m'\u001b[39m,\u001b[38;5;124m'\u001b[39m\u001b[38;5;124mEggs\u001b[39m\u001b[38;5;124m'\u001b[39m,\u001b[38;5;124m'\u001b[39m\u001b[38;5;124mYoghurt\u001b[39m\u001b[38;5;124m'\u001b[39m],\n\u001b[1;32m      2\u001b[0m        [\u001b[38;5;124m'\u001b[39m\u001b[38;5;124mFish\u001b[39m\u001b[38;5;124m'\u001b[39m,\u001b[38;5;124m'\u001b[39m\u001b[38;5;124mOnion\u001b[39m\u001b[38;5;124m'\u001b[39m,\u001b[38;5;124m'\u001b[39m\u001b[38;5;124mBread\u001b[39m\u001b[38;5;124m'\u001b[39m,\u001b[38;5;124m'\u001b[39m\u001b[38;5;124mEggs\u001b[39m\u001b[38;5;124m'\u001b[39m,\u001b[38;5;124m'\u001b[39m\u001b[38;5;124mYoghurt\u001b[39m\u001b[38;5;124m'\u001b[39m],\n\u001b[1;32m      3\u001b[0m        [\u001b[38;5;124m'\u001b[39m\u001b[38;5;124mMilk\u001b[39m\u001b[38;5;124m'\u001b[39m, \u001b[38;5;124m'\u001b[39m\u001b[38;5;124mApples\u001b[39m\u001b[38;5;124m'\u001b[39m, \u001b[38;5;124m'\u001b[39m\u001b[38;5;124mKidney Beans\u001b[39m\u001b[38;5;124m'\u001b[39m, \u001b[38;5;124m'\u001b[39m\u001b[38;5;124mEggs\u001b[39m\u001b[38;5;124m'\u001b[39m],\n\u001b[1;32m      4\u001b[0m        [\u001b[38;5;124m'\u001b[39m\u001b[38;5;124mMilk\u001b[39m\u001b[38;5;124m'\u001b[39m, \u001b[38;5;124m'\u001b[39m\u001b[38;5;124mSugar\u001b[39m\u001b[38;5;124m'\u001b[39m, \u001b[38;5;124m'\u001b[39m\u001b[38;5;124mTea Leaves\u001b[39m\u001b[38;5;124m'\u001b[39m, \u001b[38;5;124m'\u001b[39m\u001b[38;5;124mKidney Beans\u001b[39m\u001b[38;5;124m'\u001b[39m, \u001b[38;5;124m'\u001b[39m\u001b[38;5;124mYoghurt\u001b[39m\u001b[38;5;124m'\u001b[39m],\n\u001b[1;32m      5\u001b[0m        [\u001b[38;5;124m'\u001b[39m\u001b[38;5;124mTea Leaves\u001b[39m\u001b[38;5;124m'\u001b[39m,\u001b[38;5;124m'\u001b[39m\u001b[38;5;124mOnion\u001b[39m\u001b[38;5;124m'\u001b[39m,\u001b[38;5;124m'\u001b[39m\u001b[38;5;124mKidney Beans\u001b[39m\u001b[38;5;124m'\u001b[39m, \u001b[38;5;124m'\u001b[39m\u001b[38;5;124mIce cream\u001b[39m\u001b[38;5;124m'\u001b[39m, \u001b[38;5;124m'\u001b[39m\u001b[38;5;124mEggs\u001b[39m\u001b[38;5;124m'\u001b[39m],]\n\u001b[0;32m----> 6\u001b[0m globalFreqItemSet, rules \u001b[38;5;241m=\u001b[39m \u001b[43mgetAprioriAlg\u001b[49m\u001b[43m(\u001b[49m\u001b[43mdataset\u001b[49m\u001b[43m,\u001b[49m\u001b[38;5;241;43m.3\u001b[39;49m\u001b[43m)\u001b[49m\n\u001b[1;32m      7\u001b[0m \u001b[38;5;28mprint\u001b[39m(\u001b[38;5;124m\"\u001b[39m\u001b[38;5;124mAssociation rules\u001b[39m\u001b[38;5;124m\"\u001b[39m)\n\u001b[1;32m      8\u001b[0m \u001b[38;5;28;01mfor\u001b[39;00m r \u001b[38;5;129;01min\u001b[39;00m rules:\n",
      "\u001b[0;31mTypeError\u001b[0m: getAprioriAlg() missing 1 required positional argument: 'minSup'"
     ]
    }
   ],
   "source": [
    "# dataset = [['Milk','Onion', 'Bread', 'Kidney Beans','Eggs','Yoghurt'],\n",
    "#        ['Fish','Onion','Bread','Eggs','Yoghurt'],\n",
    "#        ['Milk', 'Apples', 'Kidney Beans', 'Eggs'],\n",
    "#        ['Milk', 'Sugar', 'Tea Leaves', 'Kidney Beans', 'Yoghurt'],\n",
    "#        ['Tea Leaves','Onion','Kidney Beans', 'Ice cream', 'Eggs'],]\n",
    "# globalFreqItemSet, rules = getAprioriAlg(dataset,.3)\n",
    "# print(\"Association rules\")\n",
    "# for r in rules:\n",
    "#     print(f\"{r}\")"
   ]
  },
  {
   "cell_type": "code",
   "execution_count": 77,
   "id": "0c89388e-b3c8-49f5-8330-7d6237ab6941",
   "metadata": {},
   "outputs": [],
   "source": [
    "all_baskets = []\n",
    "all_baskets_set = []\n",
    "with open(\"T10I4D100K.dat\",\"r\") as f:\n",
    "    while True:\n",
    "        line = f.readline().strip(\"\\n\")\n",
    "        all_baskets.append(line)\n",
    "        all_baskets_set.append(line)\n",
    "        if not line:\n",
    "            break\n",
    "for i, basket in enumerate(all_baskets):\n",
    "    all_baskets[i] = [int(b) for b in basket.split(\" \") if b != \"\"]\n",
    "    all_baskets_set[i] = set(all_baskets[i] )"
   ]
  },
  {
   "cell_type": "code",
   "execution_count": 78,
   "id": "bbeda7f4-abb9-46c4-9e52-17c2fc5531cd",
   "metadata": {},
   "outputs": [
    {
     "ename": "TypeError",
     "evalue": "getAprioriAlg() missing 1 required positional argument: 'minSup'",
     "output_type": "error",
     "traceback": [
      "\u001b[0;31m---------------------------------------------------------------------------\u001b[0m",
      "\u001b[0;31mTypeError\u001b[0m                                 Traceback (most recent call last)",
      "Cell \u001b[0;32mIn[78], line 1\u001b[0m\n\u001b[0;32m----> 1\u001b[0m globalFreqItemSet, rules \u001b[38;5;241m=\u001b[39m \u001b[43mgetAprioriAlg\u001b[49m\u001b[43m(\u001b[49m\u001b[43mall_baskets\u001b[49m\u001b[43m[\u001b[49m\u001b[38;5;241;43m0\u001b[39;49m\u001b[43m:\u001b[49m\u001b[38;5;241;43m100\u001b[39;49m\u001b[43m]\u001b[49m\u001b[43m,\u001b[49m\u001b[38;5;241;43m0.3\u001b[39;49m\u001b[43m)\u001b[49m\n\u001b[1;32m      2\u001b[0m \u001b[38;5;28mprint\u001b[39m(\u001b[38;5;124m\"\u001b[39m\u001b[38;5;124mAssociation rules\u001b[39m\u001b[38;5;124m\"\u001b[39m)\n\u001b[1;32m      3\u001b[0m \u001b[38;5;28;01mfor\u001b[39;00m r \u001b[38;5;129;01min\u001b[39;00m rules:\n",
      "\u001b[0;31mTypeError\u001b[0m: getAprioriAlg() missing 1 required positional argument: 'minSup'"
     ]
    }
   ],
   "source": [
    "globalFreqItemSet, rules = getAprioriAlg(all_baskets[0:100],all_baskets_set[0:100], 0.3)\n",
    "print(\"Association rules\")\n",
    "for r in rules:\n",
    "    print(f\"{r}\")"
   ]
  },
  {
   "cell_type": "code",
   "execution_count": null,
   "id": "5447fb93-3a8e-4703-b922-073332dde1a8",
   "metadata": {},
   "outputs": [
    {
     "name": "stdout",
     "output_type": "stream",
     "text": [
      "count items occurence\n"
     ]
    },
    {
     "name": "stderr",
     "output_type": "stream",
     "text": [
      "100%|███████████████████████████████████████████████████████████████████████████████████████████████████████████████████████████████| 870/870 [00:06<00:00, 142.94it/s]\n"
     ]
    },
    {
     "name": "stdout",
     "output_type": "stream",
     "text": [
      "calculating support\n",
      "k 2\n",
      "count items occurence\n"
     ]
    },
    {
     "name": "stderr",
     "output_type": "stream",
     "text": [
      " 34%|██████████████████████████████████████████▊                                                                                 | 4116/11935 [00:29<00:57, 136.54it/s]"
     ]
    }
   ],
   "source": [
    "itemSetList = all_baskets\n",
    "# itemSetList = dataset\n",
    "minSup = 0.02\n",
    "globalFreqItemSet, rules = getAprioriAlg(all_baskets, all_baskets_set, minSup)"
   ]
  },
  {
   "cell_type": "code",
   "execution_count": 42,
   "id": "697f5cb8-e501-4858-88c9-7ef493b5ae60",
   "metadata": {},
   "outputs": [
    {
     "data": {
      "text/plain": [
       "[]"
      ]
     },
     "execution_count": 42,
     "metadata": {},
     "output_type": "execute_result"
    }
   ],
   "source": [
    "rules"
   ]
  },
  {
   "cell_type": "code",
   "execution_count": 43,
   "id": "690f5ff2-0644-4480-a437-384f539dc7cf",
   "metadata": {},
   "outputs": [
    {
     "data": {
      "text/plain": [
       "16077285.0"
      ]
     },
     "execution_count": 43,
     "metadata": {},
     "output_type": "execute_result"
    }
   ],
   "source": [
    "5671*(5671-1)/2"
   ]
  },
  {
   "cell_type": "code",
   "execution_count": 51,
   "id": "4db75ddf-185a-4d12-a1e4-f05d118576ee",
   "metadata": {},
   "outputs": [
    {
     "data": {
      "text/plain": [
       "set()"
      ]
     },
     "execution_count": 51,
     "metadata": {},
     "output_type": "execute_result"
    }
   ],
   "source": [
    "a = {1,2,4}\n",
    "b = {1,2,4,5,6}\n",
    "a-b"
   ]
  },
  {
   "cell_type": "code",
   "execution_count": 58,
   "id": "a30c98ae-b5f4-40c2-9383-7ca41a6afabc",
   "metadata": {},
   "outputs": [
    {
     "data": {
      "text/plain": [
       "[25, 52, 164, 240, 274, 328, 368, 448, 538, 561, 630, 687, 730, 775, 825, 834]"
      ]
     },
     "execution_count": 58,
     "metadata": {},
     "output_type": "execute_result"
    }
   ],
   "source": [
    "itemSetList[0]"
   ]
  },
  {
   "cell_type": "code",
   "execution_count": null,
   "id": "7ee120f4-ff2a-40af-9413-a8213728ca4f",
   "metadata": {},
   "outputs": [],
   "source": []
  }
 ],
 "metadata": {
  "kernelspec": {
   "display_name": "Python 3 (ipykernel)",
   "language": "python",
   "name": "python3"
  },
  "language_info": {
   "codemirror_mode": {
    "name": "ipython",
    "version": 3
   },
   "file_extension": ".py",
   "mimetype": "text/x-python",
   "name": "python",
   "nbconvert_exporter": "python",
   "pygments_lexer": "ipython3",
   "version": "3.11.6"
  }
 },
 "nbformat": 4,
 "nbformat_minor": 5
}
