{
 "cells": [
  {
   "cell_type": "markdown",
   "id": "b5d00004-d346-497f-9621-9d1bb954eb33",
   "metadata": {},
   "source": [
    "## Homework 2: Discovery of Frequent Itemsets and Association Rules\n",
    "#### Group 56: Abdou Mustafa Saleh, wFarmaki Athanasia\n",
    "#### Date: 17/11/2023\n"
   ]
  },
  {
   "cell_type": "markdown",
   "id": "17beae1b-dbfe-484c-a0c2-387bce307562",
   "metadata": {},
   "source": [
    "The scope of this assignment is to discover association rules between itemsets in a sales transaction database. The task involves two phases:\n",
    "1) Find frequent itemsets with support at least s\n",
    "2) Generating association rules with some confidence c from the itemsets found in the first step"
   ]
  },
  {
   "cell_type": "code",
   "execution_count": 99,
   "id": "cf0d84d6-4b49-45ca-bcab-c23d2ae26deb",
   "metadata": {},
   "outputs": [],
   "source": [
    "from collections import defaultdict\n",
    "from itertools import chain, combinations\n",
    "from tqdm import tqdm"
   ]
  },
  {
   "cell_type": "code",
   "execution_count": 118,
   "id": "332ef2dc-2653-446d-b7ae-3f476ebd8174",
   "metadata": {},
   "outputs": [],
   "source": [
    "def getUnion(itemSet, length):\n",
    "    return set([i.union(j) for i in itemSet for j in itemSet if len(i.union(j)) == length])\n",
    "\n",
    "def getAprioriAlg(itemSetList, itemSetSet, minSup):\n",
    "    C1List = getItemSetFromList(itemSetList) ## frequest 1 itemlist\n",
    "    globalFreqItemSet = dict() # The ` ` is used to create an empty set in Python. In the code, it is\n",
    "    \n",
    "    globalItemSetWithSup = defaultdict(int) ## total counts of each item \"count of existance\"\n",
    "    L1ItemSet = getMinSup(C1List,itemSetSet,minSup,globalItemSetWithSup) ## return first level of freq item set\n",
    "    currentLSet = L1ItemSet\n",
    "    k = 2\n",
    "    minSup = 0.01\n",
    "    while currentLSet:\n",
    "        print(\"k\",k)\n",
    "        globalFreqItemSet[k-1] = currentLSet ## for k = 1 \"size of set is 1\"\n",
    "        candidateSet = getUnion(currentLSet, k) ## create  itemsets for size k  from the current list\n",
    "        # candidateSet = pruning(candidateSet, currentLSet, k-1)\n",
    "        currentLSet = getMinSup(candidateSet,itemSetSet,minSup,globalItemSetWithSup) ## return only sets above min support\n",
    "        k = k +1\n",
    "\n",
    "    return globalFreqItemSet, globalItemSetWithSup\n",
    "\n",
    "def pruning(candidateSet, prevFreqSet, length):\n",
    "    print(\"=--------------------\" )\n",
    "    print(\"start pruning : \", len(candidateSet) )\n",
    "    tempCandidateSet = candidateSet.copy()\n",
    "    for item in candidateSet:\n",
    "        subsets = combinations(item, length)\n",
    "        for subset in subsets:\n",
    "            # if the subset is not in previous K-frequent get, then remove the set\n",
    "            if(frozenset(subset) not in prevFreqSet):\n",
    "                tempCandidateSet.remove(item)\n",
    "                break\n",
    "\n",
    "    print(\"after pruning : \",len(candidateSet) )\n",
    "    return tempCandidateSet   \n",
    "\n",
    "def getPossibleSets(s):\n",
    "    result = []\n",
    "    for r in range(1, len(s)):\n",
    "        result.extend(combinations(s, r))\n",
    "    return result\n",
    "\n",
    "def associationRule(freqItemSet, itemSetWithSup, minConf):\n",
    "    rules = []\n",
    "    for k, itemSet in freqItemSet.items():\n",
    "        for item in itemSet:\n",
    "            # print(\"---------\")\n",
    "            # print(item)\n",
    "            subsets = getPossibleSets(item)\n",
    "            for s in subsets:\n",
    "                confidence = float(\n",
    "                    itemSetWithSup[item] / itemSetWithSup[frozenset(s)])\n",
    "                if(confidence > minConf):\n",
    "                    rules.append([set(s), set(item.difference(s)), confidence])\n",
    "    return rules\n",
    "\n",
    "def getItemSetFromList(itemSetList):\n",
    "    tempItemSet = set()\n",
    "    for itemSet in itemSetList:\n",
    "        for item in itemSet:\n",
    "            tempItemSet.add(frozenset([item]))\n",
    "\n",
    "    return tempItemSet\n",
    "\n",
    "def getMinSup(itemSet, itemSetSet, minSup, globalItemSetWithSup):\n",
    "    freqItemSet = set()\n",
    "    localItemSetWithSup = defaultdict(int)\n",
    "    print(\"count items occurence\")\n",
    "    num_candidates = len(itemSet)\n",
    "    ## count the occurance of a set in all itemsets // we put it in global store to be able to use it  for confidence calc at the end.\n",
    "    for item in tqdm(itemSet):   \n",
    "        for itemSetNested in itemSetSet:\n",
    "            if item.issubset(itemSetNested):\n",
    "            # if item - itemSetNested:\n",
    "                globalItemSetWithSup[item] += 1\n",
    "                localItemSetWithSup[item] += 1\n",
    "\n",
    "    print(\"calculating support\")\n",
    "    ## calc the support for each item and add it to fequest item list.\n",
    "    for item, supCount in localItemSetWithSup.items():\n",
    "        support = float(supCount / len(itemSetList))\n",
    "        if(support >= minSup):\n",
    "            freqItemSet.add(item)\n",
    "\n",
    "    return freqItemSet\n",
    "\n"
   ]
  },
  {
   "cell_type": "markdown",
   "id": "6868069a-b513-4e95-b1fb-2c2f50392011",
   "metadata": {},
   "source": [
    "## Read Dataset"
   ]
  },
  {
   "cell_type": "code",
   "execution_count": 114,
   "id": "0c89388e-b3c8-49f5-8330-7d6237ab6941",
   "metadata": {},
   "outputs": [],
   "source": [
    "all_baskets = []\n",
    "all_baskets_set = []\n",
    "with open(\"T10I4D100K.dat\",\"r\") as f:\n",
    "    while True:\n",
    "        line = f.readline().strip(\"\\n\")\n",
    "        all_baskets.append(line)\n",
    "        all_baskets_set.append(line)\n",
    "        if not line:\n",
    "            break\n",
    "for i, basket in enumerate(all_baskets):\n",
    "    all_baskets[i] = [int(b) for b in basket.split(\" \") if b != \"\"]\n",
    "    all_baskets_set[i] = set(all_baskets[i] )"
   ]
  },
  {
   "cell_type": "markdown",
   "id": "01489ad7-99ce-4bb9-baa3-33c23f817fa6",
   "metadata": {},
   "source": [
    "## Run A-priori algorithm"
   ]
  },
  {
   "cell_type": "code",
   "execution_count": 119,
   "id": "5447fb93-3a8e-4703-b922-073332dde1a8",
   "metadata": {},
   "outputs": [
    {
     "name": "stdout",
     "output_type": "stream",
     "text": [
      "count items occurence\n"
     ]
    },
    {
     "name": "stderr",
     "output_type": "stream",
     "text": [
      "100%|███████████████████████████████████████████████████████████████████████████████████████████████████████████████████████████████| 870/870 [00:05<00:00, 164.70it/s]\n"
     ]
    },
    {
     "name": "stdout",
     "output_type": "stream",
     "text": [
      "calculating support\n",
      "k 2\n",
      "count items occurence\n"
     ]
    },
    {
     "name": "stderr",
     "output_type": "stream",
     "text": [
      "100%|███████████████████████████████████████████████████████████████████████████████████████████████████████████████████████████| 70125/70125 [07:00<00:00, 166.95it/s]\n"
     ]
    },
    {
     "name": "stdout",
     "output_type": "stream",
     "text": [
      "calculating support\n",
      "k 3\n",
      "count items occurence\n"
     ]
    },
    {
     "name": "stderr",
     "output_type": "stream",
     "text": [
      "100%|███████████████████████████████████████████████████████████████████████████████████████████████████████████████████████████████████| 4/4 [00:00<00:00, 158.84it/s]\n"
     ]
    },
    {
     "name": "stdout",
     "output_type": "stream",
     "text": [
      "calculating support\n",
      "k 4\n",
      "count items occurence\n"
     ]
    },
    {
     "name": "stderr",
     "output_type": "stream",
     "text": [
      "0it [00:00, ?it/s]"
     ]
    },
    {
     "name": "stdout",
     "output_type": "stream",
     "text": [
      "calculating support\n"
     ]
    },
    {
     "name": "stderr",
     "output_type": "stream",
     "text": [
      "\n"
     ]
    }
   ],
   "source": [
    "itemSetList = all_baskets\n",
    "minSup = 0.01\n",
    "globalFreqItemSet, globalItemSetWithSup = getAprioriAlg(all_baskets, all_baskets_set, minSup)"
   ]
  },
  {
   "cell_type": "code",
   "execution_count": 135,
   "id": "b6642e71-eba8-449b-99f2-52c06f053a45",
   "metadata": {},
   "outputs": [
    {
     "name": "stdout",
     "output_type": "stream",
     "text": [
      "*********************\n",
      "Frequent itemsets of size 1: {675},{33},{701},{274},{617},{561},{97},{185},{862},{104},{210},{823},{334},{618},{285},{25},{688},{111},{814},{874},{73},{496},{85},{541},{707},{336},{765},{381},{276},{51},{75},{913},{653},{275},{296},{335},{631},{918},{515},{403},{170},{663},{116},{694},{841},{820},{177},{523},{919},{115},{69},{41},{500},{280},{17},{832},{829},{157},{401},{638},{574},{38},{982},{326},{129},{470},{984},{357},{308},{57},{789},{952},{279},{522},{132},{684},{234},{810},{55},{941},{540},{946},{578},{843},{720},{201},{32},{120},{94},{325},{548},{749},{890},{236},{105},{649},{947},{944},{163},{196},{554},{110},{378},{950},{914},{168},{368},{428},{173},{800},{788},{804},{572},{538},{227},{960},{486},{620},{413},{630},{661},{935},{319},{504},{682},{581},{346},{259},{614},{343},{422},{52},{348},{967},{242},{366},{846},{290},{147},{362},{744},{706},{72},{710},{469},{867},{834},{597},{591},{769},{70},{579},{853},{205},{658},{310},{217},{424},{240},{6},{740},{460},{35},{490},{716},{414},{793},{332},{322},{550},{888},{204},{468},{546},{819},{932},{795},{354},{394},{912},{923},{526},{893},{634},{140},{143},{126},{964},{527},{458},{641},{21},{510},{989},{758},{145},{798},{450},{10},{883},{774},{949},{58},{54},{192},{797},{639},{112},{906},{489},{37},{886},{611},{884},{970},{392},{171},{214},{966},{628},{487},{521},{792},{419},{995},{598},{718},{738},{567},{594},{472},{377},{752},{461},{5},{988},{623},{583},{1},{39},{283},{571},{563},{736},{411},{673},{31},{48},{151},{576},{978},{529},{704},{266},{100},{921},{790},{899},{385},{405},{28},{509},{805},{854},{516},{895},{975},{130},{350},{815},{778},{440},{122},{27},{910},{8},{991},{897},{45},{784},{775},{175},{154},{981},{780},{351},{605},{573},{606},{125},{4},{735},{294},{181},{530},{258},{93},{825},{676},{183},{68},{593},{513},{692},{632},{207},{844},{265},{239},{162},{746},{387},{956},{803},{197},{708},{161},{438},{448},{763},{928},{494},{208},{826},{937},{651},{812},{678},{12},{860},{871},{449},{963},{429},{766},{198},{43},{674},{733},{480},{71},{809},{229},{998},{885},{517},{423},{577},{361},{686},{900},{511},{948},{309},{665},{782},{534},{857},{722},{427},{78},{477},{580},{390},{859},{90},{569},{471},{687},{887},{992},{373},{349},{878},{600}\n",
      "*********************\n",
      "Frequent itemsets of size 2: {704, 825},{217, 346},{825, 39},{227, 390},{789, 829},{722, 390},{368, 829},{704, 39},{368, 682}\n",
      "*********************\n",
      "Frequent itemsets of size 3: {704, 825, 39}\n"
     ]
    }
   ],
   "source": [
    "for k,v in globalFreqItemSet.items():\n",
    "    print(\"*********************\")\n",
    "    v = [set(value) for value in v]\n",
    "    itemsets = ','.join(map(str, v))\n",
    "    print(f\"Frequent itemsets of size {k}: {itemsets}\")"
   ]
  },
  {
   "cell_type": "markdown",
   "id": "33334d55-a874-4582-8dd0-9dfd01338150",
   "metadata": {},
   "source": [
    "## Optional Task: Find association rules"
   ]
  },
  {
   "cell_type": "code",
   "execution_count": 121,
   "id": "845fe757-3fa4-451d-bb1c-e4cf17d71b51",
   "metadata": {},
   "outputs": [
    {
     "name": "stdout",
     "output_type": "stream",
     "text": [
      "Extracting association rules\n"
     ]
    },
    {
     "data": {
      "text/plain": [
       "[[{704, 825}, {39}, 0.9392014519056261],\n",
       " [{39, 704}, {825}, 0.9349593495934959],\n",
       " [{39, 825}, {704}, 0.8719460825610783],\n",
       " [{704}, {39}, 0.617056856187291],\n",
       " [{704}, {825}, 0.6142697881828316]]"
      ]
     },
     "execution_count": 121,
     "metadata": {},
     "output_type": "execute_result"
    }
   ],
   "source": [
    "print(\"Extracting association rules\")\n",
    "confidence_threshold = 0.6\n",
    "rules = associationRule(globalFreqItemSet, globalItemSetWithSup, confidence_threshold) \n",
    "rules.sort(key=lambda x: x[2], reverse=True) ## sort by confidence\n",
    "rules"
   ]
  },
  {
   "cell_type": "markdown",
   "id": "5ca9e928-1d88-4186-b177-94d66dcf3108",
   "metadata": {},
   "source": [
    "## Rules found"
   ]
  },
  {
   "cell_type": "code",
   "execution_count": 122,
   "id": "697f5cb8-e501-4858-88c9-7ef493b5ae60",
   "metadata": {},
   "outputs": [
    {
     "data": {
      "text/plain": [
       "[[{704, 825}, {39}, 0.9392014519056261],\n",
       " [{39, 704}, {825}, 0.9349593495934959],\n",
       " [{39, 825}, {704}, 0.8719460825610783],\n",
       " [{704}, {39}, 0.617056856187291],\n",
       " [{704}, {825}, 0.6142697881828316]]"
      ]
     },
     "execution_count": 122,
     "metadata": {},
     "output_type": "execute_result"
    }
   ],
   "source": [
    "rules"
   ]
  },
  {
   "cell_type": "code",
   "execution_count": null,
   "id": "9effe304-a824-45e5-957c-5004f5d0ab82",
   "metadata": {},
   "outputs": [],
   "source": []
  }
 ],
 "metadata": {
  "kernelspec": {
   "display_name": "Python 3 (ipykernel)",
   "language": "python",
   "name": "python3"
  },
  "language_info": {
   "codemirror_mode": {
    "name": "ipython",
    "version": 3
   },
   "file_extension": ".py",
   "mimetype": "text/x-python",
   "name": "python",
   "nbconvert_exporter": "python",
   "pygments_lexer": "ipython3",
   "version": "3.11.6"
  }
 },
 "nbformat": 4,
 "nbformat_minor": 5
}
